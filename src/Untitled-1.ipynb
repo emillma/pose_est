{
 "cells": [
  {
   "cell_type": "code",
   "execution_count": 2,
   "metadata": {},
   "outputs": [],
   "source": [
    "from laika import AstroDog\n",
    "from laika.helpers import ConstellationId\n",
    "from laika.gps_time import GPSTime\n",
    "from datetime import datetime\n",
    "\n"
   ]
  },
  {
   "cell_type": "code",
   "execution_count": null,
   "metadata": {},
   "outputs": [],
   "source": [
    "constellations = (ConstellationId.GPS, ConstellationId.GLONASS, ConstellationId.GALILEO)\n",
    "dog = AstroDog(valid_const=constellations)"
   ]
  },
  {
   "cell_type": "code",
   "execution_count": 2,
   "metadata": {},
   "outputs": [
    {
     "ename": "NameError",
     "evalue": "name 'GPSTime' is not defined",
     "output_type": "error",
     "traceback": [
      "\u001b[0;31m---------------------------------------------------------------------------\u001b[0m",
      "\u001b[0;31mNameError\u001b[0m                                 Traceback (most recent call last)",
      "Cell \u001b[0;32mIn[2], line 1\u001b[0m\n\u001b[0;32m----> 1\u001b[0m now \u001b[39m=\u001b[39m GPSTime\u001b[39m.\u001b[39mfrom_datetime(datetime\u001b[39m.\u001b[39mnow())\n\u001b[1;32m      2\u001b[0m sat_prn \u001b[39m=\u001b[39m \u001b[39m'\u001b[39m\u001b[39mG07\u001b[39m\u001b[39m'\u001b[39m\n\u001b[1;32m      3\u001b[0m sat_pos, sat_vel, sat_clock_err, sat_clock_drift, ephemeris \u001b[39m=\u001b[39m dog\u001b[39m.\u001b[39mget_sat_info(sat_prn, now)\n",
      "\u001b[0;31mNameError\u001b[0m: name 'GPSTime' is not defined"
     ]
    }
   ],
   "source": [
    "now = GPSTime.from_datetime(datetime.now())\n",
    "sat_prn = 'G07'\n",
    "sat_pos, sat_vel, sat_clock_err, sat_clock_drift, ephemeris = dog.get_sat_info(sat_prn, now)\n",
    "\n",
    "here = True\n",
    "\n"
   ]
  }
 ],
 "metadata": {
  "kernelspec": {
   "display_name": "Python 3",
   "language": "python",
   "name": "python3"
  },
  "language_info": {
   "codemirror_mode": {
    "name": "ipython",
    "version": 3
   },
   "file_extension": ".py",
   "mimetype": "text/x-python",
   "name": "python",
   "nbconvert_exporter": "python",
   "pygments_lexer": "ipython3",
   "version": "3.10.12"
  },
  "orig_nbformat": 4
 },
 "nbformat": 4,
 "nbformat_minor": 2
}
